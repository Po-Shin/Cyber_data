{
 "cells": [
  {
   "cell_type": "code",
   "execution_count": 1,
   "metadata": {
    "collapsed": true
   },
   "outputs": [],
   "source": [
    "import pandas as pd\n",
    "import numpy as np\n",
    "import seaborn as sns\n",
    "import matplotlib.pyplot as plt\n",
    "from matplotlib import style\n",
    "import matplotlib.dates as mdates\n",
    "from datetime import datetime,timedelta\n",
    "import numpy as np\n",
    "\n",
    "### SAX library\n",
    "from saxpy.sax import sax_via_window\n",
    "from saxpy.znorm import znorm\n",
    "from saxpy.paa import paa\n",
    "from saxpy.sax import ts_to_string\n",
    "from saxpy.hotsax import find_discords_hotsax\n"
   ]
  },
  {
   "cell_type": "markdown",
   "metadata": {},
   "source": [
    "### Load datasets\n",
    "#### df: train dataset\n",
    "#### df_validation: validation dataset"
   ]
  },
  {
   "cell_type": "code",
   "execution_count": 2,
   "metadata": {
    "collapsed": false
   },
   "outputs": [
    {
     "data": {
      "text/plain": [
       "8761"
      ]
     },
     "execution_count": 2,
     "metadata": {},
     "output_type": "execute_result"
    }
   ],
   "source": [
    "def parser(x):\n",
    "    return pd.datetime.strptime(x,'%d/%m/%y %H')\n",
    " \n",
    "idx_change = ['L_T1', 'L_T2', 'L_T3', 'L_T4', 'L_T5', 'L_T6', 'L_T7',\n",
    "        'F_PU1', 'S_PU1', 'F_PU2', 'S_PU2', 'F_PU3', 'S_PU3', 'F_PU4', 'S_PU4',\n",
    "        'F_PU5', 'S_PU5', 'F_PU6', 'S_PU6', 'F_PU7', 'S_PU7', 'F_PU8', 'S_PU8',\n",
    "        'F_PU9', 'S_PU9', 'F_PU10', 'S_PU10', 'F_PU11', 'S_PU11', 'F_V2',\n",
    "        'S_V2', 'P_J280', 'P_J269', 'P_J300', 'P_J256', 'P_J289', 'P_J415',\n",
    "        'P_J302', 'P_J306', 'P_J307', 'P_J317', 'P_J14', 'P_J422', 'ATT_FLAG']\n",
    "\n",
    "#train\n",
    "df = pd.read_csv('BATADAL_dataset_train.csv',index_col=0,header=0,parse_dates=[0],date_parser=parser)\n",
    "del df.index.name\n",
    "\n",
    "#validation\n",
    "df_validation = pd.read_csv(\"BATADAL_dataset_optimize.csv\",index_col=0,header=0,parse_dates=[0],date_parser=parser)\n",
    "del df_validation.index.name\n",
    "\n",
    "df_validation.columns = idx_change\n",
    "df_validation.head()\n",
    "\n",
    "L_T1 = df['L_T1']\n",
    "L_T1_validation = df_validation['L_T1']\n",
    "\n",
    "#load as sequence array\n",
    "L_T1_np = np.array(L_T1).T\n",
    "L_T1_validation_np = np.array(L_T1_validation).T\n",
    "\n",
    "#lenth : 8761\n",
    "len(L_T1_np)\n"
   ]
  },
  {
   "cell_type": "markdown",
   "metadata": {},
   "source": [
    "### Assign attacks to corresponding sensor"
   ]
  },
  {
   "cell_type": "code",
   "execution_count": 3,
   "metadata": {
    "collapsed": false
   },
   "outputs": [
    {
     "name": "stdout",
     "output_type": "stream",
     "text": [
      "Dates that L_T1 got attacked:\n",
      " ['2016-10-10', '2016-12-07', '2016-10-31', '2016-10-11', '2016-11-27', '2016-12-09']\n",
      "Dates that L_T4 got attacked:\n",
      " ['2016-12-06', '2016-12-08', '2016-09-14', '2016-11-01', '2016-10-30']\n",
      "Dates that L_T7 got attacked:\n",
      " ['2016-10-09', '2016-09-15']\n"
     ]
    }
   ],
   "source": [
    "#All attacked data\n",
    "attacked = L_T1_validation.loc[df_validation['ATT_FLAG']==1]\n",
    "\n",
    "Attacked_date = []\n",
    "for date in attacked.index:\n",
    "    Attacked_date.append(str(date).split(' ')[0])\n",
    "Attacked_date = list(set(Attacked_date))\n",
    "\n",
    "\n",
    "LT1_attacked = [Attacked_date[i] for i in [0,9,12,3,8,7]]\n",
    "print(\"Dates that L_T1 got attacked:\\n\",LT1_attacked)\n",
    "LT4_attacked = [Attacked_date[i] for i in [10,4,5,6,11]]\n",
    "print(\"Dates that L_T4 got attacked:\\n\",LT4_attacked)\n",
    "LT7_attacked = [Attacked_date[i] for i in [1,2]]\n",
    "print(\"Dates that L_T7 got attacked:\\n\",LT7_attacked)"
   ]
  },
  {
   "cell_type": "markdown",
   "metadata": {},
   "source": [
    "### plot the result after normalization"
   ]
  },
  {
   "cell_type": "code",
   "execution_count": 4,
   "metadata": {
    "collapsed": false
   },
   "outputs": [
    {
     "data": {
      "image/png": "[encoded data removed]",
      "text/plain": [
       "<matplotlib.figure.Figure at 0x11700e7b8>"
      ]
     },
     "metadata": {},
     "output_type": "display_data"
    }
   ],
   "source": [
    "plt.clf()\n",
    "# dataset['L_T1'][0:60].plot()\n",
    "plt.plot(znorm(L_T1_validation_np)[2200:2400])\n",
    "# plt.plot(znorm(L_T1_np)[0:192])\n",
    "plt.show()"
   ]
  },
  {
   "cell_type": "markdown",
   "metadata": {},
   "source": [
    "## Implement SAX method\n",
    "### saxpy : https://github.com/seninp/saxpy\n",
    "### PAA:  https://jmotif.github.io/sax-vsm_site/morea/algorithm/PAA.html\n",
    "### sax paper: http://crpit.com/confpapers/CRPITV134Sun.pdf\n",
    "\n"
   ]
  },
  {
   "cell_type": "markdown",
   "metadata": {},
   "source": []
  },
  {
   "cell_type": "markdown",
   "metadata": {},
   "source": [
    "### LT_1 Sensor"
   ]
  },
  {
   "cell_type": "code",
   "execution_count": 6,
   "metadata": {
    "collapsed": false
   },
   "outputs": [
    {
     "name": "stdout",
     "output_type": "stream",
     "text": [
      "train done\n",
      "validation done\n",
      "pattern abaabbbb is anomaly\n",
      "pattern aabaaabb is anomaly\n",
      "pattern babbaaaa is anomaly\n",
      "pattern bbbaaabb is anomaly\n",
      "pattern abaaabbb is anomaly\n",
      "pattern bbaabbbb is anomaly\n",
      "pattern baaabbbb is anomaly\n",
      "pattern aabbbbbb is anomaly\n",
      "pattern bbbbbbaa is anomaly\n",
      "pattern bbbbbaaa is anomaly\n",
      "pattern bbbbbaab is anomaly\n",
      "pattern bbbbaaab is anomaly\n",
      "pattern bbabaaab is anomaly\n",
      "pattern bbbbaaba is anomaly\n",
      "pattern bbbaabaa is anomaly\n",
      "pattern aabaaaab is anomaly\n",
      "pattern aaabbaba is anomaly\n",
      "pattern abbababa is anomaly\n",
      "pattern abaababa is anomaly\n",
      "pattern ababbaba is anomaly\n",
      "pattern abbabbbb is anomaly\n",
      "\n",
      "Attacks happend on L_T1 sensor(by date):\n",
      " ['2016-10-10', '2016-12-07', '2016-10-31', '2016-10-11', '2016-11-27', '2016-12-09']\n",
      "\n",
      "Attacks detected on L_T1 sensor:\n",
      " ['2016-12-10', '2016-10-06', '2016-10-11', '2016-10-09', '2016-10-10', '2016-09-03', '2016-11-30', '2016-10-04', '2016-10-08', '2016-10-21', '2016-10-23', '2016-12-16', '2016-12-06', '2016-12-11', '2016-08-19', '2016-10-30', '2016-09-04', '2016-10-05', '2016-08-10', '2016-11-02']\n",
      "\n",
      "TP:2, FN: 4, FP: 18\n"
     ]
    }
   ],
   "source": [
    "L_T = df['L_T1']\n",
    "L_T_validation = df_validation['L_T1']\n",
    "#load as sequence array\n",
    "L_T_np = np.array(L_T).T\n",
    "L_T_validation_np = np.array(L_T_validation).T\n",
    "\n",
    "#znorm dataset\n",
    "LT_znorm = znorm(L_T_np)\n",
    "count = 0\n",
    "\n",
    "#sax by window()        PAA: Piecewise Aggregate Approximation\n",
    "#parameters: (data, window size, PAA agregation , alphabet_size , numerosity reduction strategy, z-normalization threshold)\n",
    "sax_train = sax_via_window(LT_znorm, 120, 8, 2, \"exact\", 0.01)\n",
    "print(\"train done\")\n",
    "\n",
    "# L_T1_validation\n",
    "LT_znorm = znorm(L_T_validation_np)\n",
    "\n",
    "sax_validation = sax_via_window(LT_znorm, 120, 8, 2, \"exact\", 0.01)\n",
    "print(\"validation done\")\n",
    "\n",
    "\n",
    "# match to find anomalies\n",
    "Attack_detected = []\n",
    "for i in list(sax_validation.keys()):\n",
    "    if i not in list(sax_train.keys()):\n",
    "        print(\"pattern %s is anomaly\"%i)\n",
    "        for ind in sax_validation[i]:\n",
    "            Attack_detected.append(str(L_T_validation.index[ind]).split(' ')[0]) # get date of detected anomalies\n",
    "Attack_detected = list(set(Attack_detected))\n",
    "\n",
    "TP,FN,FP = 0,0,0\n",
    "print(\"\\nAttacks happend on L_T1 sensor(by date):\\n\",LT1_attacked)\n",
    "print(\"\\nAttacks detected on L_T1 sensor:\\n\",Attack_detected)\n",
    "for ind in LT1_attacked:\n",
    "    if ind in Attack_detected:\n",
    "        TP += 1\n",
    "    else:\n",
    "        FN += 1\n",
    "for ind in Attack_detected:\n",
    "    if ind not in LT1_attacked:\n",
    "        FP += 1\n",
    "        \n",
    "print(\"\\nTP:%d, FN: %d, FP: %d\"%(TP,FN,FP))\n",
    "\n"
   ]
  },
  {
   "cell_type": "markdown",
   "metadata": {},
   "source": [
    "### L_T1 performance on each different parameters"
   ]
  },
  {
   "cell_type": "markdown",
   "metadata": {
    "collapsed": false
   },
   "source": [
    "\n",
    "LT1 :      TP FN FP\n",
    "12,8,2     0  6  9\n",
    "12,8,3     2  4  44\n",
    "24,7,3     2  4  25\n",
    "24,6,3     1  5   8\n",
    "24,8,3     4  2  44\n",
    "24,8,2     2  4   9\n",
    "24,10,2    1  5  21\n",
    "24,10,3    4  2  80\n",
    "48,8,3     0  6  32\n",
    "100, 8,2   2  4  16\n",
    "110, 8,2   0  6  17\n",
    "120, 8,2   3  3  17\n",
    "140, 8,2   1  5  15\n",
    "120, 8,3   5  1  89\n",
    "120, 7,3   2  4  59\n",
    "120, 6,3   3  3  18\n",
    "110, 6,3   2  4  31\n",
    "120, 5,3   0  6  12\n",
    "120, 5,4   1  5  23\n",
    "100, 6,3   2  4  26\n",
    "\n"
   ]
  },
  {
   "cell_type": "markdown",
   "metadata": {},
   "source": []
  },
  {
   "cell_type": "markdown",
   "metadata": {},
   "source": [
    "### LT_4 Sensor"
   ]
  },
  {
   "cell_type": "code",
   "execution_count": 8,
   "metadata": {
    "collapsed": false
   },
   "outputs": [
    {
     "name": "stdout",
     "output_type": "stream",
     "text": [
      "train done\n",
      "validation done\n",
      "\n",
      "Attacks happend on L_T4 sensor(by date):\n",
      " ['2016-12-06', '2016-12-08', '2016-09-14', '2016-11-01', '2016-10-30']\n",
      "\n",
      "Attacks detected on L_T4 sensor:\n",
      " ['2016-09-10', '2016-10-10', '2016-09-15', '2016-12-17', '2016-07-20', '2016-11-12', '2016-08-13', '2016-11-09', '2016-10-12', '2016-09-12', '2016-12-21', '2016-09-24', '2016-11-15', '2016-10-02', '2016-11-24', '2016-08-24', '2016-08-12', '2016-11-01', '2016-12-03', '2016-11-13', '2016-11-25', '2016-11-27', '2016-12-22', '2016-12-11', '2016-09-06', '2016-11-26', '2016-07-04', '2016-12-18', '2016-10-31', '2016-11-21', '2016-07-09', '2016-11-23', '2016-11-14', '2016-09-20', '2016-07-08', '2016-09-03', '2016-09-18', '2016-10-04', '2016-11-28', '2016-11-16', '2016-09-29', '2016-07-11', '2016-11-08', '2016-09-11', '2016-10-18', '2016-09-07', '2016-10-27', '2016-10-03', '2016-10-06', '2016-11-17', '2016-11-05', '2016-10-16', '2016-12-08', '2016-10-13', '2016-10-07', '2016-10-14', '2016-12-06', '2016-08-21', '2016-10-30', '2016-09-04', '2016-10-05', '2016-07-31']\n",
      "TP:4, FN: 1, FP: 58\n"
     ]
    }
   ],
   "source": [
    "\n",
    "L_T = df['L_T4']\n",
    "L_T_validation = df_validation['L_T4']\n",
    "\n",
    "L_T_np = np.array(L_T).T\n",
    "L_T_validation_np = np.array(L_T_validation).T\n",
    "\n",
    "#znorm dataset\n",
    "LT_znorm = znorm(L_T_np)\n",
    "count = 0\n",
    "                                  \n",
    "sax_train = sax_via_window(LT_znorm, 50, 7, 3, \"exact\", 0.01)\n",
    "print(\"train done\")\n",
    "\n",
    "# L_T4_validation\n",
    "LT_znorm = znorm(L_T_validation_np)\n",
    "\n",
    "sax_validation = sax_via_window(LT_znorm, 50, 7, 3, \"exact\", 0.01)\n",
    "\n",
    "print(\"validation done\")\n",
    "\n",
    "\n",
    "# match to find anomalies\n",
    "Attack_detected = []\n",
    "for i in list(sax_validation.keys()):\n",
    "    if i not in list(sax_train.keys()):\n",
    "#         print(\"%s is anomaly\"%i)\n",
    "        for ind in sax_validation[i]:\n",
    "            Attack_detected.append(str(L_T_validation.index[ind]).split(' ')[0]) # get date of detected anomalies\n",
    "Attack_detected = list(set(Attack_detected))\n",
    "\n",
    "TP,FN,FP = 0,0,0\n",
    "print(\"\\nAttacks happend on L_T4 sensor(by date):\\n\",LT4_attacked)\n",
    "print(\"\\nAttacks detected on L_T4 sensor:\\n\",Attack_detected)\n",
    "for ind in LT4_attacked:\n",
    "    if ind in Attack_detected:\n",
    "        TP += 1\n",
    "    else:\n",
    "        FN += 1\n",
    "for ind in Attack_detected:\n",
    "    if ind not in LT4_attacked:\n",
    "        FP += 1\n",
    "        \n",
    "print(\"TP:%d, FN: %d, FP: %d\"%(TP,FN,FP))\n",
    "\n",
    "\n"
   ]
  },
  {
   "cell_type": "code",
   "execution_count": null,
   "metadata": {
    "collapsed": true
   },
   "outputs": [],
   "source": []
  },
  {
   "cell_type": "markdown",
   "metadata": {},
   "source": [
    "### L_T4 performance on each different parameters"
   ]
  },
  {
   "cell_type": "markdown",
   "metadata": {},
   "source": [
    "LT4:      TP FN FP\n",
    "20,6,3     2 3  25\n",
    "50,7,3     4 1  58\n",
    "60,7,3     3 2  67\n",
    "100,7,3    2 3  49\n",
    "\n",
    "20,7,3     2 3  78\n",
    "20,8,3     5 0  136\n",
    "120,8,2    0 5  3\n",
    "100,8,2    0 5  4\n",
    "120,20,2   5 0  165\n",
    "50,4,2     0 5  0\n",
    "50,8,2     0 5  2\n",
    "50,20,2    5 0  167\n",
    "200,20,2    5 0 161\n",
    "300,10,2    3 2 52\n",
    "300, 12, 2  5 0 147\n",
    "500, 8, 2   0 5 4\n",
    "300,15,2    5 0 157\n",
    "500, 12, 2  4 1 143\n",
    "500, 15, 2  4 1 150\n",
    "500, 10, 2  3 2 59\n",
    "\n",
    "300,20,2    5 0 157\n",
    "25,8,2     0 5  6\n",
    "120,8,3    4 1  68\n",
    "\n"
   ]
  },
  {
   "cell_type": "markdown",
   "metadata": {},
   "source": [
    "### LT_7 Sensor"
   ]
  },
  {
   "cell_type": "code",
   "execution_count": 9,
   "metadata": {
    "collapsed": false
   },
   "outputs": [
    {
     "name": "stdout",
     "output_type": "stream",
     "text": [
      "train done\n",
      "validation done\n",
      "bbabbca is anomaly\n",
      "bacbcac is anomaly\n",
      "abbccab is anomaly\n",
      "bbcabaa is anomaly\n",
      "cabaacb is anomaly\n",
      "bcabcca is anomaly\n",
      "abccbca is anomaly\n",
      "bcbbcaa is anomaly\n",
      "ccbcaba is anomaly\n",
      "cbbcaab is anomaly\n",
      "cbcabac is anomaly\n",
      "bbcaabc is anomaly\n",
      "bcabacc is anomaly\n",
      "cbbabcc is anomaly\n",
      "bcbcbaa is anomaly\n",
      "cabacbc is anomaly\n",
      "bbaabcc is anomaly\n",
      "bbacbcc is anomaly\n",
      "abacbcc is anomaly\n",
      "aabccbb is anomaly\n",
      "baabbcc is anomaly\n",
      "abbbccb is anomaly\n",
      "cabbacb is anomaly\n",
      "abbacbc is anomaly\n",
      "baacbbc is anomaly\n",
      "bacbccb is anomaly\n",
      "aacbbcb is anomaly\n",
      "cbbcbaa is anomaly\n",
      "bcbaacb is anomaly\n",
      "ccaacbb is anomaly\n",
      "cbbbcba is anomaly\n",
      "bbaacbc is anomaly\n",
      "aaabcbc is anomaly\n",
      "baacbcb is anomaly\n",
      "aacbcbb is anomaly\n",
      "cbcbaaa is anomaly\n",
      "cbcbaab is anomaly\n",
      "bccaabb is anomaly\n",
      "abbabbc is anomaly\n",
      "acabacc is anomaly\n",
      "cbbbcaa is anomaly\n",
      "bbcaabb is anomaly\n",
      "bcaabbb is anomaly\n",
      "bbcabca is anomaly\n",
      "bccbcaa is anomaly\n",
      "bbbcaac is anomaly\n",
      "cbcbaca is anomaly\n",
      "cbcaaca is anomaly\n",
      "cbcabca is anomaly\n",
      "bcbacac is anomaly\n",
      "bcabcab is anomaly\n",
      "bbacacc is anomaly\n",
      "baababc is anomaly\n",
      "caacabc is anomaly\n",
      "cabcabc is anomaly\n",
      "bacbbcc is anomaly\n",
      "bacaccb is anomaly\n",
      "acbbccb is anomaly\n",
      "acbccba is anomaly\n",
      "acabcba is anomaly\n",
      "cabcbac is anomaly\n",
      "abbabcc is anomaly\n",
      "accbbaa is anomaly\n",
      "bbcabcc is anomaly\n",
      "bcabccb is anomaly\n",
      "cabccbb is anomaly\n",
      "baccbca is anomaly\n",
      "aaccbca is anomaly\n",
      "cbcacbb is anomaly\n",
      "bbbcbbc is anomaly\n",
      "cbacbca is anomaly\n",
      "acbcacb is anomaly\n",
      "acbcaca is anomaly\n",
      "abababc is anomaly\n",
      "cbacabb is anomaly\n",
      "\n",
      "Attacks happend on L_T7 sensor(by date):\n",
      " ['2016-10-09', '2016-09-15']\n",
      "\n",
      "Attacks detected on L_T7 sensor:\n",
      " ['2016-09-15', '2016-11-12', '2016-11-06', '2016-09-30', '2016-08-13', '2016-07-19', '2016-10-08', '2016-08-16', '2016-08-28', '2016-09-26', '2016-10-21', '2016-07-12', '2016-09-24', '2016-08-14', '2016-08-26', '2016-08-25', '2016-08-06', '2016-10-02', '2016-11-22', '2016-11-24', '2016-12-04', '2016-07-14', '2016-12-03', '2016-12-16', '2016-11-13', '2016-12-11', '2016-08-19', '2016-12-05', '2016-07-04', '2016-08-07', '2016-11-21', '2016-11-02', '2016-07-16', '2016-08-15', '2016-11-14', '2016-07-08', '2016-09-18', '2016-10-04', '2016-07-13', '2016-09-27', '2016-07-11', '2016-09-29', '2016-07-24', '2016-08-27', '2016-08-17', '2016-11-07', '2016-09-11', '2016-10-01', '2016-07-15', '2016-10-03', '2016-09-23', '2016-10-09', '2016-07-23', '2016-10-14', '2016-09-25']\n",
      "\n",
      "TP:2, FN: 0, FP: 53\n"
     ]
    }
   ],
   "source": [
    "L_T = df['L_T7']\n",
    "L_T_validation = df_validation['L_T7']\n",
    "#load as sequence array\n",
    "L_T_np = np.array(L_T).T\n",
    "L_T_validation_np = np.array(L_T_validation).T\n",
    "\n",
    "#znorm dataset\n",
    "LT_znorm = znorm(L_T_np)\n",
    "count = 0\n",
    "#     print(count)\n",
    "                                  \n",
    "sax_train = sax_via_window(LT_znorm, 80,7, 3, \"exact\", 0.01)\n",
    "print(\"train done\")\n",
    "\n",
    "\n",
    "# L_T7_validation\n",
    "LT_znorm = znorm(L_T_validation_np)\n",
    "sax_validation = sax_via_window(LT_znorm, 80, 7, 3, \"exact\", 0.01)\n",
    "print(\"validation done\")\n",
    "\n",
    "\n",
    "# match to find anomalies\n",
    "Attack_detected = []\n",
    "for i in list(sax_validation.keys()):\n",
    "    if i not in list(sax_train.keys()):\n",
    "        print(\"%s is anomaly\"%i)\n",
    "        for ind in sax_validation[i]:\n",
    "            Attack_detected.append(str(L_T_validation.index[ind]).split(' ')[0]) # get date of detected anomalies\n",
    "Attack_detected = list(set(Attack_detected))\n",
    "\n",
    "TP,FN,FP = 0,0,0\n",
    "print(\"\\nAttacks happend on L_T7 sensor(by date):\\n\",LT7_attacked)\n",
    "print(\"\\nAttacks detected on L_T7 sensor:\\n\",Attack_detected)\n",
    "for ind in LT7_attacked:\n",
    "    if ind in Attack_detected:\n",
    "        TP += 1\n",
    "    else:\n",
    "        FN += 1\n",
    "for ind in Attack_detected:\n",
    "    if ind not in LT7_attacked:\n",
    "        FP += 1\n",
    "        \n",
    "print(\"\\nTP:%d, FN: %d, FP: %d\"%(TP,FN,FP))\n",
    "\n",
    "\n",
    "\n"
   ]
  },
  {
   "cell_type": "markdown",
   "metadata": {},
   "source": [
    "### L_T7 performance on each different parameters"
   ]
  },
  {
   "cell_type": "markdown",
   "metadata": {
    "collapsed": false
   },
   "source": [
    "L_T7\n",
    "20, 5, 3 :  0 2 10\n",
    "20, 8, 3 :  2 0 141\n",
    "20, 8, 2 :  0 2 2\n",
    "200, 8, 3 :  1 1 51\n",
    "100, 8, 3 :  2 0 78\n",
    "100, 8, 2 :  0 2 3\n",
    "100, 7, 3 :  1 1 39\n",
    "90, 7, 3 :  1 1 33\n",
    "#################### 80, 7, 3 :  2 0 53\n",
    "#################### 80, 10, 2 :  1 1 20\n",
    "70, 7, 3 :  1 1 45\n",
    "50, 8, 3 :  1 1 45\n",
    "50, 7, 3 :  0 2 60\n",
    "80, 7, 3 :  2 0 53\n",
    "#################### 80, 15, 2:  2 0 53"
   ]
  },
  {
   "cell_type": "code",
   "execution_count": null,
   "metadata": {
    "collapsed": true
   },
   "outputs": [],
   "source": []
  },
  {
   "cell_type": "code",
   "execution_count": null,
   "metadata": {
    "collapsed": false
   },
   "outputs": [],
   "source": []
  },
  {
   "cell_type": "code",
   "execution_count": null,
   "metadata": {
    "collapsed": true
   },
   "outputs": [],
   "source": []
  }
 ],
 "metadata": {
  "kernelspec": {
   "display_name": "Python 3",
   "language": "python",
   "name": "python3"
  },
  "language_info": {
   "codemirror_mode": {
    "name": "ipython",
    "version": 3
   },
   "file_extension": ".py",
   "mimetype": "text/x-python",
   "name": "python",
   "nbconvert_exporter": "python",
   "pygments_lexer": "ipython3",
   "version": "3.6.0"
  }
 },
 "nbformat": 4,
 "nbformat_minor": 2
}
